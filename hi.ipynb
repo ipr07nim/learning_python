{
 "cells": [
  {
   "cell_type": "code",
   "execution_count": 64,
   "metadata": {},
   "outputs": [
    {
     "name": "stdout",
     "output_type": "stream",
     "text": [
      "What's the number? 121213343\n",
      "i: 0  j: 0\n",
      "i: 1  j: 1\n",
      "i: 2  j: 2\n",
      "i: 3  j: 3\n",
      "i: 4  j: 4\n",
      "i: 5  j: 5\n",
      "i: 6  j: 6\n",
      "i: 7  j: 7\n",
      "i: 8  j: 8\n",
      "The reverse of the number is 343312121\n"
     ]
    }
   ],
   "source": [
    "x = int(input(\"What's the number? \"))\n",
    "def reverse(number):\n",
    "    digits = []\n",
    "    while number > 0:\n",
    "        rightmost = number%10\n",
    "        number = int(number/10)\n",
    "        digits.append(rightmost)\n",
    "        pass\n",
    "    i = 0\n",
    "    reversed_number = 0\n",
    "    for j, x in enumerate(reversed(digits)):\n",
    "        print(f'i: {i}  j: {j}')\n",
    "        reversed_number += x*(10**i)\n",
    "        i += 1\n",
    "    \n",
    "    return(reversed_number)\n",
    "\n",
    "x_rev = reverse(x)\n",
    "print(\"The reverse of the number is\", x_rev)"
   ]
  },
  {
   "cell_type": "markdown",
   "metadata": {},
   "source": [
    "## Scratchpad"
   ]
  },
  {
   "cell_type": "code",
   "execution_count": null,
   "metadata": {},
   "outputs": [],
   "source": [
    "123%10"
   ]
  },
  {
   "cell_type": "code",
   "execution_count": null,
   "metadata": {},
   "outputs": [],
   "source": []
  },
  {
   "cell_type": "code",
   "execution_count": null,
   "metadata": {},
   "outputs": [],
   "source": []
  }
 ],
 "metadata": {
  "kernelspec": {
   "display_name": "Python 3",
   "language": "python",
   "name": "python3"
  },
  "language_info": {
   "codemirror_mode": {
    "name": "ipython",
    "version": 3
   },
   "file_extension": ".py",
   "mimetype": "text/x-python",
   "name": "python",
   "nbconvert_exporter": "python",
   "pygments_lexer": "ipython3",
   "version": "3.8.3"
  }
 },
 "nbformat": 4,
 "nbformat_minor": 2
}
